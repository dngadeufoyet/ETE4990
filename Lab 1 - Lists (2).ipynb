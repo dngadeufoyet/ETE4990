{
 "cells": [
  {
   "cell_type": "markdown",
   "id": "ac613382-acda-4f55-909d-5deb9a1afbda",
   "metadata": {},
   "source": [
    "# Lists\n",
    "\n",
    "## Background\n",
    "Lists are one of the most commonly used data structures in Python and are very similar to arrays from other programming languages. A list can store many items or values inside of one overall object or structure, unlike a variable which can only store one item or value inside one object. \n",
    "\n",
    "The items in a list can be accessed by using what is called an “index” value, which simply refers to the position of a certain item inside of a list, as lists are ordered from item 0 to the number of elements - 1. Therefore a list with 5 elements will have index positions 0 through 4. \n",
    "\n",
    "Any data can be stored inside a list, numbers, strings, or objects, but it is common practice to only have one data type per list. Therefore if my list has integers, it would ONLY have integers, not strings, doubles, objects, etc."
   ]
  },
  {
   "cell_type": "markdown",
   "id": "c0e77989-3dbb-4106-b49b-f8dfa5bfeab5",
   "metadata": {},
   "source": [
    "## Mini-project - Guessing game\n",
    "Create a number guessing game and set a secret number at the beginning of the program. \n",
    "The program will ask the player to enter a number to guess what the number is, then it’ll inform the player if they got it right or wrong."
   ]
  },
  {
   "cell_type": "markdown",
   "id": "4584cbfd-289d-4f0d-a899-06d90d69e3fe",
   "metadata": {},
   "source": [
    "## Mini-Project - Dice Roll\n",
    "\n",
    "Part 1:\n",
    "Create a random number generator using dice. \n",
    "You must create at least 5 dice\n",
    "The game must use conditionals (If, Else, Elif)\n",
    "The game must use nested conditionals (if 0=0:if 1=1: do something)\n",
    "\n",
    "What lists should we create for the project?\n",
    "How many loops do we need?\n",
    "\n",
    "Part 2:\n",
    "Create a list to store your gameplay. \n",
    "Create at least 2 lists to store your game statistics.\n",
    "\n",
    "Part 3:\n",
    "At the end of the output your gameplay statistics\n",
    "\n",
    "Part 4:\n",
    "Exchange code with your partner and begin adding comments on improvements (save your original version)\n",
    "\n",
    "Part 5:\n",
    "Return the code and create a comparison \n",
    "\n",
    "Part 6:\n",
    "Upload the code and comparison it to Canvas. "
   ]
  },
  {
   "cell_type": "code",
   "execution_count": null,
   "id": "c1a378f3-4f8f-44c6-9181-8c2030ecc6ac",
   "metadata": {},
   "outputs": [],
   "source": [
    "# put your code here "
   ]
  },
  {
   "cell_type": "markdown",
   "id": "024a25d5-cb96-44be-9e7c-cb852c12f272",
   "metadata": {},
   "source": [
    "## Sample code\n",
    "Below you will find a Chat GPT generated Dice game.\n",
    "\n",
    "Lets talk about it. "
   ]
  },
  {
   "cell_type": "code",
   "execution_count": 12,
   "id": "22a730ba-7ed0-4f65-8e31-fdaee97e43a3",
   "metadata": {},
   "outputs": [
    {
     "name": "stdout",
     "output_type": "stream",
     "text": [
      "Welcome to the Dice Rolling Game!\n",
      "You and the computer will each roll a dice, and the one with the higher number wins.\n"
     ]
    },
    {
     "name": "stdin",
     "output_type": "stream",
     "text": [
      "Press Enter to roll the dice... \n"
     ]
    },
    {
     "name": "stdout",
     "output_type": "stream",
     "text": [
      "You rolled: 3\n",
      "Computer rolled: 2\n",
      "Congratulations! You win!\n"
     ]
    },
    {
     "name": "stdin",
     "output_type": "stream",
     "text": [
      "Do you want to play again? (yes/no):  no\n"
     ]
    },
    {
     "name": "stdout",
     "output_type": "stream",
     "text": [
      "Thanks for playing!\n"
     ]
    }
   ],
   "source": [
    "import random\n",
    "\n",
    "def roll_dice():\n",
    "    return random.randint(1, 6)\n",
    "\n",
    "def main():\n",
    "    print(\"Welcome to the Dice Rolling Game!\")\n",
    "    print(\"You and the computer will each roll a dice, and the one with the higher number wins.\")\n",
    "\n",
    "    while True:\n",
    "        input(\"Press Enter to roll the dice...\")\n",
    "        \n",
    "        user_roll = roll_dice()\n",
    "        computer_roll = roll_dice()\n",
    "\n",
    "        print(\"You rolled:\", user_roll)\n",
    "        print(\"Computer rolled:\", computer_roll)\n",
    "\n",
    "        if user_roll > computer_roll:\n",
    "            print(\"Congratulations! You win!\")\n",
    "        elif user_roll < computer_roll:\n",
    "            print(\"Sorry, you lost. Better luck next time!\")\n",
    "        else:\n",
    "            print(\"It's a tie!\")\n",
    "\n",
    "        play_again = input(\"Do you want to play again? (yes/no): \").lower()\n",
    "        if play_again != \"yes\":\n",
    "            print(\"Thanks for playing!\")\n",
    "            break\n",
    "\n",
    "if __name__ == \"__main__\":\n",
    "    main()"
   ]
  },
  {
   "cell_type": "code",
   "execution_count": null,
   "id": "31e6d976-765c-4a4a-848a-4fedaa2bf83a",
   "metadata": {},
   "outputs": [],
   "source": []
  },
  {
   "cell_type": "code",
   "execution_count": 29,
   "id": "4ff13200-3b6b-4173-8416-fa65d2234d9e",
   "metadata": {
    "tags": []
   },
   "outputs": [
    {
     "name": "stdout",
     "output_type": "stream",
     "text": [
      "61\n"
     ]
    }
   ],
   "source": [
    "import random\n",
    "\n",
    "number = random.randint(1,5)\n",
    "print(+ number)\n",
    "\n",
    "\n",
    "#user = input (\"Enter a number between 1 and 100\")\n",
    "\n",
    "#print( \"Number guessed is :\" + number)\n",
    "\n"
   ]
  },
  {
   "cell_type": "code",
   "execution_count": 30,
   "id": "672ead40-d246-4216-a422-29891e0b8183",
   "metadata": {
    "tags": []
   },
   "outputs": [
    {
     "name": "stdin",
     "output_type": "stream",
     "text": [
      "Enter a number between 1 and 100:  5\n"
     ]
    }
   ],
   "source": [
    "user = input (\"Enter a number between 1 and 5: \")"
   ]
  },
  {
   "cell_type": "code",
   "execution_count": 31,
   "id": "0484afa8-c0bd-4c12-b408-e7607c6dece2",
   "metadata": {
    "tags": []
   },
   "outputs": [
    {
     "name": "stdout",
     "output_type": "stream",
     "text": [
      "Try again!\n"
     ]
    }
   ],
   "source": [
    "if number == user:\n",
    "    \n",
    "    print ( \"Guessed number is: \" +number)\n",
    "else:\n",
    "    print (\"Try again!\")\n",
    "#if number > user or number < user :\n",
    "   # print(\"try again\")\n"
   ]
  },
  {
   "cell_type": "code",
   "execution_count": 40,
   "id": "10092578-846e-4d07-ac25-d1f1e3566360",
   "metadata": {
    "tags": []
   },
   "outputs": [
    {
     "name": "stdin",
     "output_type": "stream",
     "text": [
      "Enter a number between 1 and 5:  2\n"
     ]
    },
    {
     "name": "stdout",
     "output_type": "stream",
     "text": [
      "Try again!\n",
      "the user roll 2\n",
      "the computer roll4\n"
     ]
    }
   ],
   "source": [
    "import random\n",
    "\n",
    "number = random.randint(1,5)\n",
    "user = int(input (\"Enter a number between 1 and 5: \"))\n",
    "\n",
    "if number == user:\n",
    "    print ( \"it is a tie! \" + number)\n",
    "elif number > user : \n",
    "    print (\"Try again!\")\n",
    "else :\n",
    "    print ( \"You won!\")\n",
    "\n",
    "print(\"the user roll \" + str(user))\n",
    "print(\"the computer roll\" + str(number))\n",
    "\n"
   ]
  },
  {
   "cell_type": "code",
   "execution_count": 36,
   "id": "49a5abb8-c14e-4dba-b874-e4f034f9543d",
   "metadata": {
    "tags": []
   },
   "outputs": [
    {
     "name": "stdin",
     "output_type": "stream",
     "text": [
      "Press Enter to Roll the 5 Dices... \n"
     ]
    },
    {
     "name": "stdout",
     "output_type": "stream",
     "text": [
      "Current rolls: 1, 1, 1, 1, 3\n",
      "You WIN!!!\n"
     ]
    },
    {
     "name": "stdin",
     "output_type": "stream",
     "text": [
      "Play Again (y/n)? n\n"
     ]
    },
    {
     "name": "stdout",
     "output_type": "stream",
     "text": [
      "Gameplay History:  ['Dices: 1, 1, 1, 1, 3, Win']\n",
      "Total Wins:  1\n",
      "Total Losses: 0\n"
     ]
    }
   ],
   "source": [
    "import random \n",
    "\n",
    "def dice_roll():\n",
    "    return random.randint(1,6)\n",
    "    \n",
    "def dice_game():\n",
    "    gameplay = []\n",
    "    game_statistic_wins = []\n",
    "    game_statistic_losses = []\n",
    "    win_counter = 0\n",
    "    lost_counter = 0\n",
    "    user_input = 'y'\n",
    "    while user_input == 'y' or user_input == 'Y': \n",
    "        input(\"Press Enter to Roll the 5 Dices...\")\n",
    "        dice1 = dice_roll()\n",
    "        dice2 = dice_roll()\n",
    "        dice3 = dice_roll()\n",
    "        dice4 = dice_roll()\n",
    "        dice5 = dice_roll()\n",
    "        print(\"Current rolls: \" + str(dice1) +\", \"+ str(dice2)+\", \"+ str(dice3)+ \", \" + str(dice4) +\", \"+ str(dice5))\n",
    "    \n",
    "        if dice1 == dice2 or dice2 == dice3 or dice3 == dice4 or dice4 == dice5:\n",
    "            gameplay.append(\"Dices: \" + str(dice1) +\", \"+ str(dice2)+\", \"+ str(dice3)+ \", \" + str(dice4) +\", \"+ str(dice5) + \", Win\")\n",
    "            win_counter += 1\n",
    "            game_statistic_wins.append(win_counter)\n",
    "            print(\"You WIN!!!\")\n",
    "            user_input = input(\"Play Again (y/n)?\")\n",
    "            if user_input == 'n' or user_input == 'N': \n",
    "                print(\"Gameplay History: \", gameplay)\n",
    "                if win_counter == 0: \n",
    "                    print(\"Total Wins: 0\")\n",
    "                else:\n",
    "                    print(\"Total Wins: \", game_statistic_wins[-1])\n",
    "                if lost_counter == 0:\n",
    "                    print(\"Total Losses: 0\")\n",
    "                else:\n",
    "                    print(\"Total Losses: \", game_statistic_losses[-1])\n",
    "                    \n",
    "        else: \n",
    "            gameplay.append(\"Dices: \" + str(dice1) +\", \"+ str(dice2)+\", \"+ str(dice3)+ \", \" + str(dice4) +\", \"+ str(dice5) + \", Loss\")\n",
    "            lost_counter += 1\n",
    "            game_statistic_losses.append(lost_counter)\n",
    "            print(\"You lOST :( go cry about it\")\n",
    "            user_input = input(\"Play Again (y/n)?\")\n",
    "            if user_input == 'n' or user_input == 'N': \n",
    "                print(\"Gameplay History: \", gameplay)\n",
    "                if win_counter == 0: \n",
    "                    print(\"Total Wins: 0\")\n",
    "                else:\n",
    "                    print(\"Total Wins: \", game_statistic_wins[-1])\n",
    "                if lost_counter == 0:\n",
    "                    print(\"Total Losses: 0\")\n",
    "                else:\n",
    "                    print(\"Total Losses: \", game_statistic_losses[-1])\n",
    "            \n",
    "            \n",
    "    \n",
    "def main():\n",
    "    dice_game()\n",
    "    \n",
    "if __name__ == \"__main__\": \n",
    "    main()"
   ]
  },
  {
   "cell_type": "code",
   "execution_count": null,
   "id": "e7a30bb7-3227-4b56-835c-4b6f4e7c2067",
   "metadata": {},
   "outputs": [],
   "source": []
  }
 ],
 "metadata": {
  "kernelspec": {
   "display_name": "Python 3 (ipykernel)",
   "language": "python",
   "name": "python3"
  },
  "language_info": {
   "codemirror_mode": {
    "name": "ipython",
    "version": 3
   },
   "file_extension": ".py",
   "mimetype": "text/x-python",
   "name": "python",
   "nbconvert_exporter": "python",
   "pygments_lexer": "ipython3",
   "version": "3.11.5"
  }
 },
 "nbformat": 4,
 "nbformat_minor": 5
}
