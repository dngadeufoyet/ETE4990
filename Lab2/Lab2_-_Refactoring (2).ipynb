{
 "cells": [
  {
   "cell_type": "markdown",
   "id": "0209af47-6b8d-4f34-8292-aa79deef5088",
   "metadata": {},
   "source": [
    "# Lab 2 - Refactoring\n",
    "## Refactoring is:\n",
    "\n",
    "Refactoring is the process of restructuring or rewriting code, while not changing its original functionality. The goal of refactoring is to improve internal code by making many small changes without altering the code's external behavior. \n",
    "\n",
    "It is easier said than done. "
   ]
  },
  {
   "cell_type": "markdown",
   "id": "f470981d-7433-42f0-a742-a9ddeae57056",
   "metadata": {},
   "source": [
    "### Part 1 - Warm up\n",
    "\n",
    "You will refactor the following code:"
   ]
  },
  {
   "cell_type": "code",
   "execution_count": 2,
   "id": "b817e22e-46ae-4dfe-9a38-c3d3e818168b",
   "metadata": {},
   "outputs": [
    {
     "name": "stdin",
     "output_type": "stream",
     "text": [
      "Enter a number:  1\n"
     ]
    },
    {
     "name": "stdout",
     "output_type": "stream",
     "text": [
      "5 is more than 1\n"
     ]
    }
   ],
   "source": [
    "#stolen from https://realpython.com/python-refactoring/\n",
    "#yes you can go there and look at what they did no do it yourself\n",
    "x = 5\n",
    "value = input(\"Enter a number: \")\n",
    "y = int(value)\n",
    "if x < y:\n",
    "    print(f\"{x} is less than {y}\")\n",
    "elif x == y:\n",
    "    print(f\"{x} is equal to {y}\")\n",
    "else:\n",
    "    print(f\"{x} is more than {y}\")"
   ]
  },
  {
   "cell_type": "code",
   "execution_count": null,
   "id": "033cf53c-96bc-4174-813d-09ad088787d6",
   "metadata": {},
   "outputs": [],
   "source": [
    "# put your refactored code here"
   ]
  },
  {
   "cell_type": "markdown",
   "id": "bb9edc37-9bd7-4b4a-8ec1-d1465d85be37",
   "metadata": {},
   "source": [
    "## Part 2\n",
    "Refactor Lab 1 into a function that can be used over and over again"
   ]
  },
  {
   "cell_type": "code",
   "execution_count": 6,
   "id": "733c4d16-c02c-4058-9cb6-4b751c86dc93",
   "metadata": {},
   "outputs": [
    {
     "name": "stdin",
     "output_type": "stream",
     "text": [
      "Press Enter to Roll the 5 Dices... \n"
     ]
    },
    {
     "name": "stdout",
     "output_type": "stream",
     "text": [
      "Current rolls: 2, 2, 2, 4, 3\n",
      "You WIN!!!\n"
     ]
    },
    {
     "name": "stdin",
     "output_type": "stream",
     "text": [
      "Play Again (y/n)? y\n",
      "Press Enter to Roll the 5 Dices... \n"
     ]
    },
    {
     "name": "stdout",
     "output_type": "stream",
     "text": [
      "Current rolls: 4, 5, 6, 5, 2\n",
      "You WIN!!!\n"
     ]
    },
    {
     "name": "stdin",
     "output_type": "stream",
     "text": [
      "Play Again (y/n)? n\n"
     ]
    },
    {
     "name": "stdout",
     "output_type": "stream",
     "text": [
      "Gameplay History: ['Dices: 2, 2, 2, 4, 3, Win', 'Dices: 4, 5, 6, 5, 2, Win']\n",
      "Total Wins: 2\n",
      "Total Losses: 0\n"
     ]
    }
   ],
   "source": [
    "import random \n",
    "\n",
    "def diceroll():\n",
    "    return random.randint(1,6)\n",
    "#create a for loop to shorten it\n",
    "\n",
    "\n",
    "def dicegame():\n",
    "    gameplay = []\n",
    "    gamestatistics = {'wins': 0, 'losses': 0}\n",
    "    userinput = 'y'\n",
    "    while user_input == 'y' or user_input == 'Y': \n",
    "        input(\"Press Enter to Roll the 5 Dices...\")\n",
    "        rolls = [dice_roll() for i in range(5)]\n",
    "        print(\"Current rolls: \" + str(rolls[0]) +\", \"+ str(rolls[1])+\", \"+ str(rolls[2])+ \", \" + str(rolls[3]) +\", \"+ str(rolls[4]))\n",
    "\n",
    "        if rolls[0] == rolls[1] or rolls[1] == rolls[2] or rolls[2] == rolls[3] or rolls[3]== rolls[4]:\n",
    "            gameplay.append(\"Dices: \" + str(rolls[0]) +\", \"+ str(rolls[1])+\", \"+ str(rolls[2])+ \", \" + str(rolls[3]) +\", \"+ str(rolls[4]) + \", Win\")\n",
    "            game_statistics['wins'] += 1\n",
    "            print(\"You WIN!!!\")\n",
    "            user_input = input(\"Play Again (y/n)?\")\n",
    "            if user_input == 'n' or user_input == 'N': \n",
    "                print(\"Gameplay History: \", gameplay)\n",
    "                print(\"Total Wins: \", game_statistics['wins'])\n",
    "                print(\"Total Losses: \", game_statistics['losses'])\n",
    "\n",
    "        else: \n",
    "            gameplay.append(\"Dices: \" + str(rolls[0]) +\", \"+ str(rolls[1])+\", \"+ str(rolls[2])+ \", \" + str(rolls[3]) +\", \"+ str(rolls[4]) + \", Loss\")\n",
    "            game_statistics['losses'] += 1\n",
    "            print(\"You lOST  go cry about it\")\n",
    "            user_input = input(\"Play Again (y/n)?\")\n",
    "            if user_input == 'n' or user_input == 'N': \n",
    "                print(\"Gameplay History: \", gameplay)\n",
    "                print(\"Total Wins: \", game_statistics['wins'])\n",
    "                print(\"Total Losses: \", game_statistics['losses'])\n",
    "\n",
    "def main():\n",
    "    dice_game()\n",
    "\n",
    "if __name == \"__main\": \n",
    "    main()\n"
   ]
  },
  {
   "cell_type": "markdown",
   "id": "e589c6c8-f937-47e0-8db2-a37e03c12336",
   "metadata": {},
   "source": [
    "## Part 3 \n",
    "\n",
    "# But first a preview.... \n",
    "# Project #1  WIP This will change... \n",
    "\n",
    "You are project is to create a text based video game player profile, invintory system, and combat system. You must create a realistic player with at least 10 invintory items. Each item must have a discription and a trate assosiated with it. Have fun with this. \n",
    "\n",
    "You must use all items covered thus far (files (read and write), json, operators, lists, tuples(optional), functions, modules and classes)\n",
    "    \n",
    "- The adventure game should have the option to choose your player type\n",
    "  - Upon choosing your player type player atributes must be set ie wizard magic = 10, knight magic = 0 \n",
    "- Write a function to display the invintory of the player. \n",
    "- Write a function to get more detail on an item in the invintory.\n",
    "  - Knife \"forged in the depths of polymar\", +5 magic, edged weapon, one handed etc \n",
    "      - bonus points for calculating bonuses to wepons when equiping and dequiping \n",
    "- Write a function to add and remove items from the invintory\n",
    "- Ensure I am able to close the program and reload the character (ie files)\n",
    "    \n",
    "\n"
   ]
  },
  {
   "cell_type": "markdown",
   "id": "1fe3ba5e-722b-4ed8-b36f-c9ebd718bd7d",
   "metadata": {},
   "source": [
    "# Project 1 - Part 1\n",
    "Spend time planning out your code. You may work with your partner to plan out your code. How would you like your game to play? \n",
    "\n",
    "Use a UML planner like: \n",
    "\n",
    "\n",
    "https://miro.com/\n"
   ]
  },
  {
   "cell_type": "code",
   "execution_count": null,
   "id": "3bdce5be-0a31-4cf9-ba17-0f5be8cefc33",
   "metadata": {},
   "outputs": [],
   "source": []
  }
 ],
 "metadata": {
  "kernelspec": {
   "display_name": "Python 3 (ipykernel)",
   "language": "python",
   "name": "python3"
  },
  "language_info": {
   "codemirror_mode": {
    "name": "ipython",
    "version": 3
   },
   "file_extension": ".py",
   "mimetype": "text/x-python",
   "name": "python",
   "nbconvert_exporter": "python",
   "pygments_lexer": "ipython3",
   "version": "3.11.5"
  }
 },
 "nbformat": 4,
 "nbformat_minor": 5
}
